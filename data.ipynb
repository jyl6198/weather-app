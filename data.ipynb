{
 "cells": [
  {
   "cell_type": "code",
   "execution_count": 1,
   "source": [
    "import json"
   ],
   "outputs": [],
   "metadata": {}
  },
  {
   "cell_type": "code",
   "execution_count": 39,
   "source": [
    "file = open('db.json')\r\n",
    "data = json.load(file)\r\n",
    "\r\n",
    "print(data['cities'][2])"
   ],
   "outputs": [
    {
     "output_type": "stream",
     "name": "stdout",
     "text": [
      "{'coord': {'lon': -87.9668, 'lat': 43.0006}, 'weather': [{'id': 800, 'main': 'Clear', 'description': 'clear sky', 'icon': '01d'}], 'base': 'stations', 'main': {'temp': 27.99, 'feels_like': 27.72, 'temp_min': 26.22, 'temp_max': 29.27, 'pressure': 1014, 'humidity': 41}, 'visibility': 10000, 'wind': {'speed': 1.34, 'deg': 324, 'gust': 4.02}, 'clouds': {'all': 1}, 'dt': 1630350047, 'sys': {'type': 2, 'id': 2034123, 'country': 'US', 'sunrise': 1630322077, 'sunset': 1630369838}, 'timezone': -18000, 'id': 5263058, 'name': 'Milwaukee', 'cod': 200}\n"
     ]
    }
   ],
   "metadata": {}
  },
  {
   "cell_type": "code",
   "execution_count": null,
   "source": [],
   "outputs": [],
   "metadata": {}
  }
 ],
 "metadata": {
  "orig_nbformat": 4,
  "language_info": {
   "name": "python",
   "version": "3.9.6",
   "mimetype": "text/x-python",
   "codemirror_mode": {
    "name": "ipython",
    "version": 3
   },
   "pygments_lexer": "ipython3",
   "nbconvert_exporter": "python",
   "file_extension": ".py"
  },
  "kernelspec": {
   "name": "python3",
   "display_name": "Python 3.9.6 64-bit"
  },
  "interpreter": {
   "hash": "39f35f13ae8a1360c3a65c0ccd70b77ff270bfc6d97f94762a8808d5efa5594f"
  }
 },
 "nbformat": 4,
 "nbformat_minor": 2
}